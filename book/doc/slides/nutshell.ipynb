{
 "cells": [
  {
   "cell_type": "markdown",
   "metadata": {
    "slideshow": {
     "slide_type": "slide"
    }
   },
   "source": [
    "# Tensor networks in a nutshell"
   ]
  },
  {
   "cell_type": "code",
   "execution_count": 3,
   "metadata": {
    "slideshow": {
     "slide_type": "slide"
    }
   },
   "outputs": [
    {
     "data": {
      "text/plain": [
       "637"
      ]
     },
     "execution_count": 3,
     "metadata": {},
     "output_type": "execute_result"
    }
   ],
   "source": [
    "# pip install kanren\n",
    "from kanren import Relation, facts, lall, var, eq, run\n",
    "\n",
    "# part of Python's standard library\n",
    "from functools import partial"
   ]
  },
  {
   "cell_type": "code",
   "execution_count": null,
   "metadata": {},
   "outputs": [],
   "source": [
    "# facts\n",
    "different_2 = Relation()\n",
    "facts(different_2,\n",
    "      (\"red\", \"green\"),\n",
    "      (\"green\", \"red\")\n",
    ")\n",
    "\n",
    "different_3 = Relation()\n",
    "facts(different_3,\n",
    "      (\"red\", \"green\"),\n",
    "      (\"green\", \"red\"),\n",
    "      (\"red\", \"blue\"),\n",
    "      (\"blue\", \"red\"),\n",
    "      (\"green\", \"blue\"),\n",
    "      (\"blue\", \"green\") \n",
    ")"
   ]
  },
  {
   "cell_type": "code",
   "execution_count": null,
   "metadata": {},
   "outputs": [],
   "source": [
    "# rules\n",
    "def coloring(different, t, m, a, g, f):\n",
    "    return lall(\n",
    "        different(t, m),\n",
    "        different(t, a),\n",
    "        different(t, g),\n",
    "        different(m, a),\n",
    "        different(a, g),\n",
    "        different(a, f),\n",
    "        different(g, f)\n",
    "    )\n",
    "\n",
    "\n",
    "coloring_2 = partial(coloring, different_2)\n",
    "coloring_3 = partial(coloring, different_3)"
   ]
  },
  {
   "cell_type": "code",
   "execution_count": null,
   "metadata": {},
   "outputs": [],
   "source": [
    "# goals\n",
    "t, m, a, g, f = var(), var(), var(), var(), var()\n",
    "\n",
    "colors_2 = coloring_2(t, m, a, g, f)\n",
    "colors_3 = coloring_3(t, m, a, g, f)\n",
    "\n",
    "a_red = eq(a, \"red\")\n",
    "t_green = eq(t, \"green\")"
   ]
  },
  {
   "cell_type": "code",
   "execution_count": null,
   "metadata": {},
   "outputs": [],
   "source": [
    "# query\n",
    "query = { \n",
    "    \"Tennessee\": t,\n",
    "    \"Mississippi\": m,\n",
    "    \"Alabama\": a,\n",
    "    \"Georgia\": g,\n",
    "    \"Florida\": f\n",
    "}"
   ]
  },
  {
   "cell_type": "code",
   "execution_count": null,
   "metadata": {},
   "outputs": [],
   "source": [
    "run(0, query, colors_3)"
   ]
  }
 ],
 "metadata": {
  "celltoolbar": "Slideshow",
  "kernelspec": {
   "display_name": "Python 3",
   "language": "python",
   "name": "python3"
  },
  "language_info": {
   "codemirror_mode": {
    "name": "ipython",
    "version": 3
   },
   "file_extension": ".py",
   "mimetype": "text/x-python",
   "name": "python",
   "nbconvert_exporter": "python",
   "pygments_lexer": "ipython3",
   "version": "3.8.5"
  },
  "rise": {
   "autolaunch": true
  }
 },
 "nbformat": 4,
 "nbformat_minor": 4
}
