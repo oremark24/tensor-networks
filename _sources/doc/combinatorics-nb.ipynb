{
 "cells": [
  {
   "cell_type": "markdown",
   "id": "governing-framing",
   "metadata": {},
   "source": [
    "# 4. Combinatorics [notebook]\n",
    "\n",
    "## Relational programming"
   ]
  },
  {
   "cell_type": "code",
   "execution_count": 1,
   "id": "educated-alias",
   "metadata": {},
   "outputs": [],
   "source": [
    "# pip install kanren\n",
    "from kanren import Relation, facts, lall, var, eq, run\n",
    "\n",
    "# part of Python's standard library\n",
    "from functools import partial"
   ]
  },
  {
   "cell_type": "code",
   "execution_count": 2,
   "id": "selected-stopping",
   "metadata": {},
   "outputs": [],
   "source": [
    "# facts\n",
    "different_2 = Relation()\n",
    "facts(different_2,\n",
    "      (\"red\", \"green\"),\n",
    "      (\"green\", \"red\")\n",
    ")\n",
    "\n",
    "different_3 = Relation()\n",
    "facts(different_3,\n",
    "      (\"red\", \"green\"),\n",
    "      (\"green\", \"red\"),\n",
    "      (\"red\", \"blue\"),\n",
    "      (\"blue\", \"red\"),\n",
    "      (\"green\", \"blue\"),\n",
    "      (\"blue\", \"green\") \n",
    ")"
   ]
  },
  {
   "cell_type": "code",
   "execution_count": 3,
   "id": "animal-merit",
   "metadata": {},
   "outputs": [],
   "source": [
    "# rules\n",
    "def coloring(different, t, m, a, g, f):\n",
    "    return lall(\n",
    "        different(t, m),\n",
    "        different(t, a),\n",
    "        different(t, g),\n",
    "        different(m, a),\n",
    "        different(a, g),\n",
    "        different(a, f),\n",
    "        different(g, f)\n",
    "    )\n",
    "\n",
    "\n",
    "coloring_2 = partial(coloring, different_2)\n",
    "coloring_3 = partial(coloring, different_3)"
   ]
  },
  {
   "cell_type": "code",
   "execution_count": 4,
   "id": "published-capitol",
   "metadata": {},
   "outputs": [],
   "source": [
    "# goals\n",
    "t, m, a, g, f = var(), var(), var(), var(), var()\n",
    "\n",
    "colors_2 = coloring_2(t, m, a, g, f)\n",
    "colors_3 = coloring_3(t, m, a, g, f)\n",
    "\n",
    "a_red = eq(a, \"red\")\n",
    "t_green = eq(t, \"green\")"
   ]
  },
  {
   "cell_type": "code",
   "execution_count": 5,
   "id": "adolescent-layer",
   "metadata": {},
   "outputs": [],
   "source": [
    "# query\n",
    "query = { \n",
    "    \"Tennessee\": t,\n",
    "    \"Mississippi\": m,\n",
    "    \"Alabama\": a,\n",
    "    \"Georgia\": g,\n",
    "    \"Florida\": f\n",
    "}"
   ]
  },
  {
   "cell_type": "code",
   "execution_count": 6,
   "id": "remarkable-dallas",
   "metadata": {},
   "outputs": [
    {
     "data": {
      "text/plain": [
       "()"
      ]
     },
     "execution_count": 6,
     "metadata": {},
     "output_type": "execute_result"
    }
   ],
   "source": [
    "run(0, query, colors_2)"
   ]
  },
  {
   "cell_type": "code",
   "execution_count": 7,
   "id": "significant-session",
   "metadata": {},
   "outputs": [
    {
     "data": {
      "text/plain": [
       "({'Tennessee': 'red',\n",
       "  'Mississippi': 'green',\n",
       "  'Alabama': 'blue',\n",
       "  'Georgia': 'green',\n",
       "  'Florida': 'red'},\n",
       " {'Tennessee': 'green',\n",
       "  'Mississippi': 'blue',\n",
       "  'Alabama': 'red',\n",
       "  'Georgia': 'blue',\n",
       "  'Florida': 'green'},\n",
       " {'Tennessee': 'red',\n",
       "  'Mississippi': 'blue',\n",
       "  'Alabama': 'green',\n",
       "  'Georgia': 'blue',\n",
       "  'Florida': 'red'},\n",
       " {'Tennessee': 'blue',\n",
       "  'Mississippi': 'red',\n",
       "  'Alabama': 'green',\n",
       "  'Georgia': 'red',\n",
       "  'Florida': 'blue'},\n",
       " {'Tennessee': 'blue',\n",
       "  'Mississippi': 'green',\n",
       "  'Alabama': 'red',\n",
       "  'Georgia': 'green',\n",
       "  'Florida': 'blue'},\n",
       " {'Tennessee': 'green',\n",
       "  'Mississippi': 'red',\n",
       "  'Alabama': 'blue',\n",
       "  'Georgia': 'red',\n",
       "  'Florida': 'green'})"
      ]
     },
     "execution_count": 7,
     "metadata": {},
     "output_type": "execute_result"
    }
   ],
   "source": [
    "run(0, query, colors_3)"
   ]
  },
  {
   "cell_type": "code",
   "execution_count": 8,
   "id": "settled-portugal",
   "metadata": {},
   "outputs": [
    {
     "data": {
      "text/plain": [
       "({'Tennessee': 'green',\n",
       "  'Mississippi': 'blue',\n",
       "  'Alabama': 'red',\n",
       "  'Georgia': 'blue',\n",
       "  'Florida': 'green'},)"
      ]
     },
     "execution_count": 8,
     "metadata": {},
     "output_type": "execute_result"
    }
   ],
   "source": [
    "run(0, query, colors_3, a_red, t_green)"
   ]
  },
  {
   "cell_type": "code",
   "execution_count": 9,
   "id": "bronze-chemistry",
   "metadata": {},
   "outputs": [
    {
     "data": {
      "text/plain": [
       "True"
      ]
     },
     "execution_count": 9,
     "metadata": {},
     "output_type": "execute_result"
    }
   ],
   "source": [
    "def xor_fn(x, y):\n",
    "    return x ^ y\n",
    "\n",
    "xor_fn(True, False)"
   ]
  },
  {
   "cell_type": "code",
   "execution_count": 10,
   "id": "funny-penny",
   "metadata": {},
   "outputs": [
    {
     "data": {
      "text/plain": [
       "(True,)"
      ]
     },
     "execution_count": 10,
     "metadata": {},
     "output_type": "execute_result"
    }
   ],
   "source": [
    "xor_rel = Relation()\n",
    "facts(xor_rel,\n",
    "      (False, False, False),\n",
    "      (True, False, True),\n",
    "      (False, True, True),      \n",
    "      (True, True, False)\n",
    ")\n",
    "      \n",
    "z = var()\n",
    "run(0, z, xor_rel(True, False, z))"
   ]
  },
  {
   "cell_type": "code",
   "execution_count": 11,
   "id": "young-fleet",
   "metadata": {},
   "outputs": [
    {
     "data": {
      "text/plain": [
       "(True,)"
      ]
     },
     "execution_count": 11,
     "metadata": {},
     "output_type": "execute_result"
    }
   ],
   "source": [
    "x = var()\n",
    "run(0, x, xor_rel(x, False, True))"
   ]
  },
  {
   "cell_type": "code",
   "execution_count": 12,
   "id": "bulgarian-greensboro",
   "metadata": {},
   "outputs": [
    {
     "data": {
      "text/plain": [
       "((True, False), (False, True))"
      ]
     },
     "execution_count": 12,
     "metadata": {},
     "output_type": "execute_result"
    }
   ],
   "source": [
    "y = var()\n",
    "run(0, (x, y), xor_rel(x, y, True))"
   ]
  },
  {
   "cell_type": "markdown",
   "id": "directed-water",
   "metadata": {},
   "source": [
    "## Boolean tensors"
   ]
  },
  {
   "cell_type": "code",
   "execution_count": 13,
   "id": "comfortable-yahoo",
   "metadata": {},
   "outputs": [
    {
     "data": {
      "text/plain": [
       "(True,)"
      ]
     },
     "execution_count": 13,
     "metadata": {},
     "output_type": "execute_result"
    }
   ],
   "source": [
    "z = var()\n",
    "run(0, z, xor_rel(True, False, z))"
   ]
  },
  {
   "cell_type": "code",
   "execution_count": 14,
   "id": "surface-journey",
   "metadata": {},
   "outputs": [
    {
     "data": {
      "text/plain": [
       "(True,)"
      ]
     },
     "execution_count": 14,
     "metadata": {},
     "output_type": "execute_result"
    }
   ],
   "source": [
    "x = var()\n",
    "run(0, x, xor_rel(x, False, True))"
   ]
  },
  {
   "cell_type": "code",
   "execution_count": 15,
   "id": "approved-forest",
   "metadata": {},
   "outputs": [
    {
     "data": {
      "text/plain": [
       "((True, False), (False, True))"
      ]
     },
     "execution_count": 15,
     "metadata": {},
     "output_type": "execute_result"
    }
   ],
   "source": [
    "y = var()\n",
    "run(0, (x, y), xor_rel(x, y, True))"
   ]
  },
  {
   "cell_type": "code",
   "execution_count": 16,
   "id": "every-custom",
   "metadata": {},
   "outputs": [
    {
     "data": {
      "text/plain": [
       "((False, False), (True, True))"
      ]
     },
     "execution_count": 16,
     "metadata": {},
     "output_type": "execute_result"
    }
   ],
   "source": [
    "y = var()\n",
    "run(0, (x, y), xor_rel(x, y, False))"
   ]
  },
  {
   "cell_type": "markdown",
   "id": "flexible-agreement",
   "metadata": {},
   "source": [
    "## Boolean satisfiability"
   ]
  },
  {
   "cell_type": "code",
   "execution_count": 17,
   "id": "brutal-flexibility",
   "metadata": {},
   "outputs": [],
   "source": [
    "# pip install pycosat\n",
    "from pycosat import itersolve"
   ]
  },
  {
   "cell_type": "code",
   "execution_count": 18,
   "id": "administrative-exposure",
   "metadata": {},
   "outputs": [],
   "source": [
    "# state x has >=1 colors\n",
    "def ge1(x):\n",
    "    return [[x, x+1, x+2]]\n",
    "\n",
    "\n",
    "# state x has <=1 colors\n",
    "def le1(x):\n",
    "    return [[-x, -(x+1)], [-x, -(x+2)], [-(x+1), -(x+2)]]\n",
    "\n",
    "\n",
    "# states x,y have different colors\n",
    "def ne(x, y):\n",
    "    return [[-x, -y], [-(x+1), -(y+1)], [-(x+2), -(y+2)]] \n",
    "\n",
    "\n",
    "t, m, a, g, f = 1, 4, 7, 10, 13\n",
    "formula = ge1(t) + ge1(m) + ge1(a) + ge1(g) + ge1(f) + \\\n",
    "          le1(t) + le1(m) + le1(a) + le1(g) + le1(f) + \\\n",
    "          ne(t, m) + ne(t, a) + ne(t, g) + ne(m, a) + \\\n",
    "          ne(a, g) + ne(a, f) + ne(g, f)"
   ]
  },
  {
   "cell_type": "code",
   "execution_count": 19,
   "id": "personalized-volleyball",
   "metadata": {},
   "outputs": [
    {
     "data": {
      "text/plain": [
       "[[('Tennessee', 'blue'),\n",
       "  ('Mississippi', 'green'),\n",
       "  ('Alabama', 'red'),\n",
       "  ('Georgia', 'green'),\n",
       "  ('Florida', 'blue')],\n",
       " [('Tennessee', 'blue'),\n",
       "  ('Mississippi', 'red'),\n",
       "  ('Alabama', 'green'),\n",
       "  ('Georgia', 'red'),\n",
       "  ('Florida', 'blue')],\n",
       " [('Tennessee', 'green'),\n",
       "  ('Mississippi', 'red'),\n",
       "  ('Alabama', 'blue'),\n",
       "  ('Georgia', 'red'),\n",
       "  ('Florida', 'green')],\n",
       " [('Tennessee', 'green'),\n",
       "  ('Mississippi', 'blue'),\n",
       "  ('Alabama', 'red'),\n",
       "  ('Georgia', 'blue'),\n",
       "  ('Florida', 'green')],\n",
       " [('Tennessee', 'red'),\n",
       "  ('Mississippi', 'blue'),\n",
       "  ('Alabama', 'green'),\n",
       "  ('Georgia', 'blue'),\n",
       "  ('Florida', 'red')],\n",
       " [('Tennessee', 'red'),\n",
       "  ('Mississippi', 'green'),\n",
       "  ('Alabama', 'blue'),\n",
       "  ('Georgia', 'green'),\n",
       "  ('Florida', 'red')]]"
      ]
     },
     "execution_count": 19,
     "metadata": {},
     "output_type": "execute_result"
    }
   ],
   "source": [
    "def run_sat(formula):\n",
    "    def assignment(x):\n",
    "        x0 = x-1\n",
    "        state = [\"Tennessee\", \"Mississippi\", \"Alabama\", \"Georgia\", \"Florida\"][x0//3]\n",
    "        color = [\"red\", \"green\", \"blue\"][x0%3]\n",
    "        return state, color\n",
    "    \n",
    "    def solution(xs):\n",
    "        return [assignment(x) for x in xs if x>0]\n",
    "    \n",
    "    return [solution(xs) for xs in itersolve(formula)]\n",
    "\n",
    "\n",
    "run_sat(formula)"
   ]
  },
  {
   "cell_type": "code",
   "execution_count": 20,
   "id": "comfortable-tooth",
   "metadata": {},
   "outputs": [
    {
     "data": {
      "text/plain": [
       "[[('Tennessee', 'green'),\n",
       "  ('Mississippi', 'blue'),\n",
       "  ('Alabama', 'red'),\n",
       "  ('Georgia', 'blue'),\n",
       "  ('Florida', 'green')]]"
      ]
     },
     "execution_count": 20,
     "metadata": {},
     "output_type": "execute_result"
    }
   ],
   "source": [
    "a_red, t_green = [[7]], [[2]]\n",
    "run_sat(formula + a_red + t_green)"
   ]
  },
  {
   "cell_type": "markdown",
   "id": "revolutionary-validity",
   "metadata": {},
   "source": [
    "## Counting SAT solutions"
   ]
  },
  {
   "cell_type": "code",
   "execution_count": 21,
   "id": "amber-globe",
   "metadata": {},
   "outputs": [
    {
     "data": {
      "text/plain": [
       "2"
      ]
     },
     "execution_count": 21,
     "metadata": {},
     "output_type": "execute_result"
    }
   ],
   "source": [
    "solutions = run(0, (x, y), xor_rel(x, y, True))\n",
    "len(solutions)"
   ]
  }
 ],
 "metadata": {
  "jupytext": {
   "cell_metadata_filter": "-all",
   "formats": "md:myst",
   "text_representation": {
    "extension": ".md",
    "format_name": "myst",
    "format_version": 0.13,
    "jupytext_version": "1.11.5"
   }
  },
  "kernelspec": {
   "display_name": "Python 3",
   "language": "python",
   "name": "python3"
  },
  "language_info": {
   "codemirror_mode": {
    "name": "ipython",
    "version": 3
   },
   "file_extension": ".py",
   "mimetype": "text/x-python",
   "name": "python",
   "nbconvert_exporter": "python",
   "pygments_lexer": "ipython3",
   "version": "3.8.9"
  },
  "source_map": [
   14,
   20,
   28,
   47,
   65,
   76,
   87,
   91,
   95,
   99,
   106,
   119,
   124,
   127,
   131,
   136,
   141,
   146,
   149,
   153,
   158,
   181,
   198,
   201,
   205
  ]
 },
 "nbformat": 4,
 "nbformat_minor": 5
}