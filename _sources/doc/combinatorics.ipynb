{
 "cells": [
  {
   "cell_type": "markdown",
   "metadata": {},
   "source": [
    "# Tensors and Combinatorics\n",
    "\n",
    "What is _Combinatorics_? It is a discipline of mathematics that investigates existence,\n",
    "construction and counting of configurations (confer the preface of {cite}`polya83`).\n",
    "Here, a configuration is conceived as a discrete structure. That is an artifact that\n",
    "is not continuous, but defined by finite or infinite countable parameters.\n",
    "\n",
    "## Relational programming\n",
    "\n",
    "An example combinatorial problem is the following map coloring puzzle. Look at the map \n",
    "of five states.\n",
    "\n",
    "```{figure} ../img/combinatorics/map-coloring.png\n",
    ":align: center\n",
    ":name: fig-combinatorics-map-coloring\n",
    "Map coloring\n",
    "```\n",
    "\n",
    "The task is to color the state shapes such that states with a common border are colored\n",
    "differently. This shall be done in a way that as few colors as possible are used. \n",
    "The given map represents a small example that could even be solved with pencil and paper.\n",
    "This comes in handy, when we might want to verify our algorithmic solutions later. But\n",
    "of course a pencil and paper approach would soon fail, if the map becomes big and complex.\n",
    "\n",
    "An interesting way to solve problems like this in a declarative fashion, offers logic \n",
    "programming. It will abstract away the solution enumerating part and instead rely on \n",
    "a description of solution identifying properties.\n",
    "\n",
    "The map {numref}`fig-combinatorics-map-coloring` and also the solution approach is taken \n",
    "from the repository {cite}`fawi20`, that gives an introduction into the logic programming \n",
    "library `pytholog` for Python. It adds Prolog as an external DSL to Python. \n",
    "\n",
    "We will be following another path, that is explained in the entertaining book \n",
    "\"The Reasoned Schemer\", {cite}`friedman18`, or more prosaic in William Byrd's dissertation, \n",
    "{cite}`byrd09`. Both publications feature and develop the Scheme internal logic DSL `miniKanren`. \n",
    "We will use its Python port `kanren` from repository {cite}`rocklin13`.\n",
    "\n",
    "Let us describe the solution to the given map coloring problem step by step. As mentioned,\n",
    "we will be using `kanren` as dependency and the `partial` function from `functools`, allowing\n",
    "for [currying](https://en.wikipedia.org/wiki/Currying)."
   ]
  },
  {
   "cell_type": "code",
   "execution_count": 1,
   "metadata": {},
   "outputs": [],
   "source": [
    "# pip install kanren\n",
    "from kanren import Relation, facts, lall, var, eq, run\n",
    "\n",
    "# part of Python's standard library\n",
    "from functools import partial"
   ]
  },
  {
   "cell_type": "markdown",
   "metadata": {},
   "source": [
    "As a first step we have to explain the problem to `kanren`. This will be done through _facts_ and\n",
    "_rules_. Facts form the knowledge base by defining relations between possible values of logic\n",
    "variables. We do not claim that our solution displays the only feasible approach. As a challenge\n",
    "you might want to try to find a different way. However, in our problem description we are using\n",
    "color tones as knowledge atoms. The facts are given by all possible color combinations to be\n",
    "used for adjacent states. We want to try out coloring the map with two colors. We define a \n",
    "relation `different_2` for that. In case the two color attempt is not going through, we \n",
    "define a relation `different_3` holding all facts for a try with three colors."
   ]
  },
  {
   "cell_type": "code",
   "execution_count": 2,
   "metadata": {},
   "outputs": [],
   "source": [
    "# facts\n",
    "different_2 = Relation()\n",
    "facts(different_2,\n",
    "      (\"red\", \"green\"),\n",
    "      (\"green\", \"red\")\n",
    ")\n",
    "\n",
    "different_3 = Relation()\n",
    "facts(different_3,\n",
    "      (\"red\", \"green\"),\n",
    "      (\"green\", \"red\"),\n",
    "      (\"red\", \"blue\"),\n",
    "      (\"blue\", \"red\"),\n",
    "      (\"green\", \"blue\"),\n",
    "      (\"blue\", \"green\") \n",
    ")"
   ]
  },
  {
   "cell_type": "markdown",
   "metadata": {},
   "source": [
    "Rules extend the facts through logical inference. As foundation for our rules\n",
    "we define the function `coloring` that takes a set of facts and five logic variables\n",
    "representing a possible color per state. The function body checks, if the coloring is\n",
    "feasible. This is the case, if and only if adjacent states are colored differently.\n",
    "We are using the defined relations and the `kanren` combinator `lall`. It stands for\n",
    "\"logic all\" and is true exactly when all subsequent facts are true.\n",
    "\n",
    "From the function we inherit two rules. `coloring_2` contains the knowledge of feasible\n",
    "colorings with two colors, `coloring_3` does the same for three colors respectively."
   ]
  },
  {
   "cell_type": "code",
   "execution_count": 3,
   "metadata": {},
   "outputs": [],
   "source": [
    "# rules\n",
    "def coloring(different, tn, ms, al, ga, fl):\n",
    "    return lall(\n",
    "        different(tn, ms),\n",
    "        different(tn, al),\n",
    "        different(tn, ga),\n",
    "        different(ms, al),\n",
    "        different(al, ga),\n",
    "        different(al, fl),\n",
    "        different(ga, fl)\n",
    "    )\n",
    "\n",
    "coloring_2 = partial(coloring, different_2)\n",
    "coloring_3 = partial(coloring, different_3)"
   ]
  },
  {
   "cell_type": "markdown",
   "metadata": {},
   "source": [
    "Next we will tell `kanren`, what we are seeking for. This is expressed by means of\n",
    "_goals_ and a _query_. Goals are combining facts and rules with values that set\n",
    "solution properties. First we define a logic variable per state. The we define\n",
    "goals `colors_2` and `colors_3` for feasible colorings with two, respectively three,\n",
    "colors. You might already wonder about the certainty that in case of success \n",
    "we will not find a unique coloring. From one feasible coloring we can easily derive \n",
    "another  valid coloring by permuting the colors. To cut down a potential set of solutions\n",
    "further to our likings, we define two more goals `al_red` and `tn_green`. They\n",
    "require Alabama to be colored \"green\" and Tennessee to be colored \"green\", respectively."
   ]
  },
  {
   "cell_type": "code",
   "execution_count": 4,
   "metadata": {},
   "outputs": [],
   "source": [
    "# goals\n",
    "tn, ms, al, ga, fl = var(), var(), var(), var(), var()\n",
    "\n",
    "colors_2 = coloring_2(tn, ms, al, ga, fl)\n",
    "colors_3 = coloring_3(tn, ms, al, ga, fl)\n",
    "\n",
    "al_red = eq(al, \"red\")\n",
    "tn_green = eq(tn, \"green\")"
   ]
  },
  {
   "cell_type": "markdown",
   "metadata": {},
   "source": [
    "Our final preparatory step is to define the query - the solution structure. We want to know\n",
    "the coloring of all five states. Hence, our query contains all five logic variables, combined\n",
    "into a dictionary."
   ]
  },
  {
   "cell_type": "code",
   "execution_count": 5,
   "metadata": {},
   "outputs": [],
   "source": [
    "# query\n",
    "query = { \n",
    "    \"Tennessee\": tn,\n",
    "    \"Mississippi\": ms,\n",
    "    \"Alabama\": al,\n",
    "    \"Georgia\": ga,\n",
    "    \"Florida\": fl\n",
    "}"
   ]
  },
  {
   "cell_type": "markdown",
   "metadata": {},
   "source": [
    "Now we are done with the problem and solution description. Enumerating and checking configurations\n",
    "in an efficient way, we will leave to the `kanren` system. The process is executed with the `run`\n",
    "function. The first parameter tells, in how many solutions we are interested in. We are giving a\n",
    "`0` to get all possible solutions. The second parameter provides the query followed by parameters\n",
    "containing goals. Let us first find all solutions using at most two colors."
   ]
  },
  {
   "cell_type": "code",
   "execution_count": 6,
   "metadata": {},
   "outputs": [
    {
     "data": {
      "text/plain": [
       "()"
      ]
     },
     "execution_count": 6,
     "metadata": {},
     "output_type": "execute_result"
    }
   ],
   "source": [
    "run(0, query, colors_2)"
   ]
  },
  {
   "cell_type": "markdown",
   "metadata": {},
   "source": [
    "The answer is an empty tupel. This (logically) proves, that there is no solution. So, maybe there\n",
    "is more luck with three colors."
   ]
  },
  {
   "cell_type": "code",
   "execution_count": 7,
   "metadata": {},
   "outputs": [
    {
     "data": {
      "text/plain": [
       "({'Tennessee': 'red',\n",
       "  'Mississippi': 'blue',\n",
       "  'Alabama': 'green',\n",
       "  'Georgia': 'blue',\n",
       "  'Florida': 'red'},\n",
       " {'Tennessee': 'blue',\n",
       "  'Mississippi': 'red',\n",
       "  'Alabama': 'green',\n",
       "  'Georgia': 'red',\n",
       "  'Florida': 'blue'},\n",
       " {'Tennessee': 'blue',\n",
       "  'Mississippi': 'green',\n",
       "  'Alabama': 'red',\n",
       "  'Georgia': 'green',\n",
       "  'Florida': 'blue'},\n",
       " {'Tennessee': 'green',\n",
       "  'Mississippi': 'red',\n",
       "  'Alabama': 'blue',\n",
       "  'Georgia': 'red',\n",
       "  'Florida': 'green'},\n",
       " {'Tennessee': 'green',\n",
       "  'Mississippi': 'blue',\n",
       "  'Alabama': 'red',\n",
       "  'Georgia': 'blue',\n",
       "  'Florida': 'green'},\n",
       " {'Tennessee': 'red',\n",
       "  'Mississippi': 'green',\n",
       "  'Alabama': 'blue',\n",
       "  'Georgia': 'green',\n",
       "  'Florida': 'red'})"
      ]
     },
     "execution_count": 7,
     "metadata": {},
     "output_type": "execute_result"
    }
   ],
   "source": [
    "run(0, query, colors_3)"
   ]
  },
  {
   "cell_type": "markdown",
   "metadata": {},
   "source": [
    "This time the answer contains six possible configurations. Taking into account that we would already\n",
    "obtain six permutations from one feasible coloring, the coloring is unique if we factor out permutations.\n",
    "To nail down a unique coloring we fix the colors of Alabama and Tennessee by stating two more goals."
   ]
  },
  {
   "cell_type": "code",
   "execution_count": 8,
   "metadata": {},
   "outputs": [
    {
     "data": {
      "text/plain": [
       "({'Tennessee': 'green',\n",
       "  'Mississippi': 'blue',\n",
       "  'Alabama': 'red',\n",
       "  'Georgia': 'blue',\n",
       "  'Florida': 'green'},)"
      ]
     },
     "execution_count": 8,
     "metadata": {},
     "output_type": "execute_result"
    }
   ],
   "source": [
    "run(0, query, colors_3, al_red, tn_green)"
   ]
  },
  {
   "cell_type": "markdown",
   "metadata": {},
   "source": [
    "All goals we have used are defined by a relation. This is a more restricted form of _unification_, \n",
    "that for example Prolog makes available. The form of logic programming we have used is therefore\n",
    "called _relational programming_.\n",
    "\n",
    "To elaborate more on the difference of programming with relations and \"conventional\" programming,\n",
    "let us compare functions and relations. The `xor` operator will serve as example. \n",
    "We define it as function of two boolean parameters. As usual we can feed in two boolean values\n",
    "to get the boolean result of the operator in return."
   ]
  },
  {
   "cell_type": "code",
   "execution_count": 9,
   "metadata": {},
   "outputs": [
    {
     "data": {
      "text/plain": [
       "True"
      ]
     },
     "execution_count": 9,
     "metadata": {},
     "output_type": "execute_result"
    }
   ],
   "source": [
    "def xor_fn(x, y):\n",
    "    return x ^ y\n",
    "\n",
    "xor_fn(True, False)"
   ]
  },
  {
   "cell_type": "markdown",
   "metadata": {},
   "source": [
    "The same can be achieved with relational programming as well. Similar to the map coloring example\n",
    "we will be using `kanren` to set up the appropriate relation. It contains the truth table of the\n",
    "`xor` ($\\oplus$) operator. The relation consists of four facts, each fact is a triple $(x,y,z)$ \n",
    "representing one row of the truth table with $x\\oplus y = z$. We write $\\oplus$, since\n",
    "`xor` is the same as the addition (modulo $2$) of the field on $\\{0,1\\}$ with $0$ representing \n",
    "`False` and $1$ representing `True`. The function call can be mimicked by setting a goal that \n",
    "provides $x$ and $y$ and asks for $z$."
   ]
  },
  {
   "cell_type": "code",
   "execution_count": 10,
   "metadata": {},
   "outputs": [
    {
     "data": {
      "text/plain": [
       "(True,)"
      ]
     },
     "execution_count": 10,
     "metadata": {},
     "output_type": "execute_result"
    }
   ],
   "source": [
    "xor_rel = Relation()\n",
    "facts(xor_rel,\n",
    "      (False, False, False),\n",
    "      (True, False, True),\n",
    "      (False, True, True),      \n",
    "      (True, True, False)\n",
    ")\n",
    "      \n",
    "z = var()\n",
    "run(0, z, xor_rel(True, False, z))"
   ]
  },
  {
   "cell_type": "markdown",
   "metadata": {},
   "source": [
    "But, the relation does not distinguish between inputs and outputs as the function does. That we have\n",
    "used the first two parameters of the triple to define a goal was due to the fact that we wanted to\n",
    "model the function call. Instead it is not forbidden to provide parameter two and three and ask for\n",
    "the first one."
   ]
  },
  {
   "cell_type": "code",
   "execution_count": 11,
   "metadata": {},
   "outputs": [
    {
     "data": {
      "text/plain": [
       "(True,)"
      ]
     },
     "execution_count": 11,
     "metadata": {},
     "output_type": "execute_result"
    }
   ],
   "source": [
    "x = var()\n",
    "run(0, x, xor_rel(x, False, True))"
   ]
  },
  {
   "cell_type": "markdown",
   "metadata": {},
   "source": [
    "What we have done is actually to ask for solutions of the equation $x\\oplus 0 = 1$. We can even ask\n",
    "for pairs, or in terms of the equation, a solution of $x\\oplus y=1$. `kanren` returns both solutions."
   ]
  },
  {
   "cell_type": "code",
   "execution_count": 12,
   "metadata": {},
   "outputs": [
    {
     "data": {
      "text/plain": [
       "((True, False), (False, True))"
      ]
     },
     "execution_count": 12,
     "metadata": {},
     "output_type": "execute_result"
    }
   ],
   "source": [
    "y = var()\n",
    "run(0, (x, y), xor_rel(x, y, True))"
   ]
  },
  {
   "cell_type": "markdown",
   "metadata": {},
   "source": [
    "## Boolean tensors\n",
    "\n",
    "To bring tensors into play, we consider $\\C^2$ as logic space, with \n",
    "$e_0\\def\\begin{bmatrix}1 & 0\\end{bmatrix}^T$ representing `False` and \n",
    "$e_1\\def\\begin{bmatrix}0 & 1\\end{bmatrix}^T$ representing `True`.\n",
    "In this terminology we can express `xor` as tensor.\n",
    "\n",
    "````{prf:definition} $\\xor$-tensor\n",
    ":label: def-combinatorics-xor-tensor\n",
    "We define the tensor $\\xor\\in\\C^2\\otimes\\C^2\\otimes\\C^2$ by\n",
    "\n",
    "$$\n",
    "\\xor = \n",
    "    e_0\\otimes e^0\\otimes e^0 +\n",
    "    e_1\\otimes e^1\\otimes e^0 +\n",
    "    e_1\\otimes e^0\\otimes e^1 +\n",
    "    e_0\\otimes e^1\\otimes e^1 \\,,\n",
    "$$\n",
    "\n",
    "and draw\n",
    "\n",
    "```{figure} ../img/combinatorics/xor-tensor.svg\n",
    ":align: center\n",
    ":height: 50em\n",
    ":name: fig-combinatorics-xor-tensor\n",
    "$xor$-tensor\n",
    "```\n",
    "````\n",
    "\n",
    "Next:\n",
    "- Truth table for $\\xor$-tensor\n",
    "- contravariance / covariance of indices does not matter\n",
    "\n",
    "(sec-combinatorics-counting)=\n",
    "## Counting problems\n",
    "\n",
    "Interestingly tensor networks can be used to obtain algebraic descriptions of counting problems. \n",
    "This has mostly theoretical value, as it provides another way of analyzing this kind of problems. \n",
    "We will give a few examples.\n",
    "\n",
    "Roger Penrose introduced the graphical language for tensor networks (he called them \n",
    "_abstract tensor systems_) in {cite}`penrose71`. As an motivating application he gives counting \n",
    "edge colorings of $3$-regular planar graphs. We will revisit this example here.\n",
    "\n",
    "\n",
    "Let $G=(N,E)$ be a \n",
    "[$3$-regular](https://en.wikipedia.org/wiki/Regular_graph)\n",
    "[planar](https://en.wikipedia.org/wiki/Planar_graph)\n",
    "[multigraph](https://en.wikipedia.org/wiki/Multigraph).\n",
    "This means, that $G$ might contain multiple edges connecting same nodes. Furthermore, every node \n",
    "is incident on exactly $3$ edges and there exists a crossing-free embedding of $G$ into $\\R^2$.\n",
    "The minimal example looks like:\n",
    "\n",
    "```{figure} ../img/combinatorics/penrose-minimal.svg\n",
    ":align: center\n",
    ":height: 150em\n",
    ":name: fig-combinatorics-penrose-minimal\n",
    "Minimal $3$-regular graph\n",
    "```\n",
    "\n",
    "We are looking for all edge colorings with $3$ colors $f:E\\rightarrow\\{1,2,3\\}$ such that incident \n",
    "edges are mapped to different colors. The minimal example can be colored in six different ways:\n",
    "\n",
    "```{figure} ../img/combinatorics/penrose-coloring.svg\n",
    ":align: center\n",
    ":height: 150em\n",
    ":name: fig-combinatorics-penrose-coloring\n",
    "Minimal edge coloring\n",
    "```\n",
    "\n",
    "This value can also be obtained by interpreting the graph as tensor network.\n",
    "Each node will be replaced by a $\\varepsilon$-tensor with $3$ indices, every index of dimension $3$.\n",
    "Each edge is representing the respective contraction of incident tensors. Thus, the minimal \n",
    "example translates into the following tensor network.\n",
    "\n",
    "````{prf:example}\n",
    ":label: ex-combinatorics-penrose\n",
    "\n",
    "```{figure} ../img/combinatorics/penrose-network.svg\n",
    ":align: center\n",
    ":height: 150em\n",
    ":name: fig-combinatorics-penrose-network\n",
    "Edge coloring tensor network\n",
    "```\n",
    "\n",
    "This contraction has the following value.\n",
    "\n",
    "$$\n",
    "\\sum\\limits_{i=1}^3\\sum\\limits_{j=1}^3\\sum\\limits_{k=1}^3\\varepsilon_{ijk}\\varepsilon_{ijk}\n",
    "= \\sum\\limits_{i=1}^3\\sum\\limits_{\\substack{j=1 \\\\ j\\neq i}}^3\\sum\\limits_{\\substack{k=1 \\\\ k\\neq i,j}}^3 1\n",
    "= 6\n",
    "$$\n",
    "````\n",
    "\n",
    "Indeed, {cite}`penrose71` contains the following theorem.\n",
    "\n",
    "```{prf:theorem}\n",
    ":label: thm-combinatorics-penrose\n",
    "The number of all edge colorings with $3$ colors of a planar $3$-regular multigraph is \n",
    "obtained by replacing each node with an order-$3$ $\\varepsilon$-tensor, interpreting\n",
    "each edge as a contraction and then contracting the resulting tensor network.\n",
    "```\n",
    "\n",
    "```{prf:proof}\n",
    "We leave it with explaining plausibility.\n",
    "\n",
    "The construction is valid, because the graph is $3$-regular. Having an $\\varepsilon$-tensor \n",
    "located in a node enforces the coloring to be proper in the sense that incident edges \n",
    "(on that node) are colored differently, otherwise $\\varepsilon_{ijk}=0$. \n",
    "This means that every configuration of the indices with values from $1$ to $3$ represents \n",
    "on one hand a valid and distinct coloring and contributes on the other hand\n",
    "a $+1$ or a $-1$ to the sum.\n",
    "\n",
    "For planar graphs the contribution is always $1$, what proves the theorem. \n",
    "{cite}`penrose71` arguments: \n",
    "\n",
    "> Finally we have to check that each non-zero term contributes precisely the value +1.\n",
    "> It is at this point that the planarity of the graph enters. There are various ways of \n",
    "> seeing that the sign comes out correctly here, but I have not been able to think of an \n",
    "> argument which can be presented in a nutshell, so I shall just omit it here.\n",
    "\n",
    "So we will do and leave this final conclusion to the reader.\n",
    "```\n",
    "\n",
    "However, Roger Penrose gives an example that shows that planarity is indeed a necessary \n",
    "for the theorem.\n",
    "\n",
    "````{prf:example}\n",
    ":label: ex-combinatorics-penrose2\n",
    "Consider the following graph $K_{3,3}$.\n",
    "\n",
    "```{figure} ../img/combinatorics/penrose-k33.svg\n",
    ":align: center\n",
    ":height: 300em\n",
    ":name: fig-combinatorics-penrose-k33\n",
    "$K_{3,3}$\n",
    "```\n",
    "\n",
    "It is the complete [bipartite graph](https://en.wikipedia.org/wiki/Bipartite_graph)\n",
    "with $3$ nodes in each partition. There are no nodes between the red nodes and between \n",
    "the blue nodes. But every red node is connected with every blue node. By the famous\n",
    "[theorem of Kuratowski](https://en.wikipedia.org/wiki/Kuratowski%27s_theorem),\n",
    "this graph is not planar. Now, consider to exchange $2$ nodes in the resulting tensor \n",
    "network.\n",
    "\n",
    "```{figure} ../img/combinatorics/penrose-exchange.svg\n",
    ":align: center\n",
    ":height: 300em\n",
    ":name: fig-combinatorics-penrose-exchange\n",
    "$K_{3,3}$ with node swap\n",
    "```\n",
    "\n",
    "Let us assume we exchange the nodes marked by $1$ and $2$. The tensor network would be \n",
    "the same and the contraction has to yield the same result. However, $5$ of the \n",
    "involved epsilon tensors have changed, those representing the nodes $1$, $2$ and the blue \n",
    "nodes. However, the tensors behind $1$ and $2$ are changing in the same way.\n",
    "One is zero exactly when the other is zero. In addition, if one changes the sign, the other \n",
    "will do as well. Hence, the value of the product of the two does not change at all, \n",
    "when going from the first tensor network to the second. In contrary, every blue node \n",
    "switches exactly to indices. For example, the upper blue node swaps the index $k$ with the \n",
    "index $r$. Therefore, when moving from the left tensor network to the right tensor network, \n",
    "every non-zero \"blue\" epsilon tensor will change the sign. Hence, if the product of the \n",
    "three is not zero, it will change the sign. This implies, that every non-zero summand of \n",
    "the contraction will change its sign. There is only one possibility, that both contractions \n",
    "can yield the same result while having opposite signs. The value has to be zero, which \n",
    "contradicts the fact that the $K_{3,3}$ is $3$-colorable in $12$ different ways, one of \n",
    "those being:\n",
    "\n",
    "```{figure} ../img/combinatorics/penrose-k33-coloring.svg\n",
    ":align: center\n",
    ":height: 300em\n",
    ":name: fig-combinatorics-penrose-k33-coloring\n",
    "Edge-colored $K_{3,3}$\n",
    "```\n",
    "````\n",
    "\n",
    "So far the initial motivation of the inventor of the graphical tensor network language. \n",
    "Actually, this coloring result is just a side product and the paper establishes further \n",
    "insights. Therefore, the usage of the Levi-Civita symbol. If we are just interested in \n",
    "edge coloring, we can obtain the counting value in a much simpler way. Instead of \n",
    "$\\varepsilon$ we simply use an $\\eta$-tensor that counts $1$ for all for all edge \n",
    "permutations.\n",
    "\n",
    "```{math}\n",
    ":label: eqn-combinatorics-eta-tensor\n",
    "\\eta_{i_1\\ldots i_q} \\def \n",
    "    \\begin{cases}\n",
    "        1,\\quad\\,i_s\\neq i_t,\\,1\\le s<t\\le q, \\\\\n",
    "        0,\\quad\\text{otherwise}. \n",
    "    \\end{cases}\n",
    "```\n",
    "\n",
    "Obviously, $\\eta_{i_1\\ldots i_q} = \\varepsilon_{i_1\\ldots i_q}^2$ and we have not to \n",
    "think about what would happen in the case of $-1$. This allows to formulate another \n",
    "edge coloring theorem.\n",
    "\n",
    "```{prf:theorem}\n",
    ":label: thm-combinatorics-penrose2\n",
    "Let $G=(N,E)$ be a multigraph. We assign a tensor network to $G$ as follows. Each node \n",
    "will be replaced by an $\\eta$-tensor with as many indices as incident edges. Each edge will \n",
    "be interpreted as contraction along the related index. Every index of the tensor network \n",
    "shall have the same dimension $c$. Then the number of edge $c$-colorings is exactly the \n",
    "value of the contraction of the tensor network.\n",
    "```\n",
    "\n",
    "```{prf:proof}\n",
    "Similar to the argument of {prf:ref}`thm-combinatorics-penrose`, a node being represented \n",
    "by $\\eta_{i_1\\ldots i_q}$ ensures, that a colorings with incident edges of same color do \n",
    "not count (factor zero), whereas colorings with incident edges having pairwise a different \n",
    "color contribute a $1$ (all $\\eta$-tensors are $1$ for respective indices). Edges being \n",
    "represented by contractions ensures that an edge is colored the same, seen from both ends\n",
    "(the index is the same). Every index being of dimension $c$ means, that the indices are \n",
    "running from $1$ to $c$, hence $c$ colors are used.\n",
    "```\n",
    "\n",
    "Let us conclude the part on edge colorings with an example.\n",
    "\n",
    "````{prf:example}\n",
    ":label: ex-combinatorics-penrose3\n",
    "We consider the following graph, respectively tensor network with named indices.\n",
    "\n",
    "```{figure} ../img/combinatorics/penrose-example.svg\n",
    ":align: center\n",
    ":height: 150em\n",
    ":name: fig-combinatorics-penrose-example\n",
    "Edge-coloring example graph\n",
    "```\n",
    "\n",
    "Following {prf:ref}`thm-combinatorics-penrose2`, if we are interested in counting all \n",
    "edge colorings with $c$ colors, we have to calculate the following tensor contraction.\n",
    "\n",
    "$$\n",
    "\\sum\\limits_{i=1}^c\n",
    "\\sum\\limits_{j=1}^c\n",
    "\\sum\\limits_{k=1}^c\n",
    "\\sum\\limits_{p=1}^c\n",
    "\\eta_{ij}\\eta_{ik}\\eta_{jkp}\\underbrace{\\eta_p}_{=1}\n",
    "=\n",
    "\\sum\\limits_{i=1}^c\n",
    "\\sum\\limits_{j=1}^c\n",
    "\\sum\\limits_{k=1}^c\n",
    "\\sum\\limits_{p=1}^c\n",
    "\\eta_{ij}\\eta_{ik}\\eta_{jkp}\n",
    "$$\n",
    "\n",
    "Let us consider the cases $c=1,2,3$.\n",
    "\n",
    "- $c=1,2:$ According to the \n",
    "    [pigeonhole principle](https://en.wikipedia.org/wiki/Pigeonhole_principle)\n",
    "    we obtain $\\eta_{jkp}=0$ for $j,k,p\\in\\{1(,2)\\}$. Hence, the contraction value is $0$. \n",
    "    This means, that there is no valid coloring with $1$ or $2$ colors.\n",
    "\n",
    "- $c=3:$ Before we enumerate all combinations of index values, we can reduce them. We will \n",
    "    add all values $\\eta_{ij}\\eta_{ik}\\eta_{jkp}\\neq 0$. This implies \n",
    "    $i\\neq j,\\,i\\neq k,\\,j\\neq k,\\,j\\neq p,\\,k\\neq p$. Hence, every combination sees different \n",
    "    values for $j$ and $k$ and assigns the missing third value to $i=p$. Hence, the number of \n",
    "    $3$-colorings equals the number of permutations of the $3$ colors which is $6$.\n",
    "\n",
    "What we have done here, is actually the same as enumerating all possible colorings directly. \n",
    "Assigning values to indices is and checking whether all $\\eta$-tensors are $1$ is exactly the \n",
    "same as assigning colors to edges and checking if the coloring is valid in all nodes.\n",
    "````\n",
    "\n",
    "{cite}`bridgeman17` analyzes node colorings in a similar way. A node coloring for a graph \n",
    "$G=(N,E)$ with $c$ colors is a map $f:N\\rightarrow\\{1,\\ldots,c\\}$ such that adjacent nodes \n",
    "are mapped to different colors. Obviously it suffices to consider simple graphs without \n",
    "multiple edges, since multiple edges would just add redundant information. We will introduce \n",
    "the construction with the same example, that had concluded the previous section.\n",
    "\n",
    "````{prf:example}\n",
    ":label: ex-combinatorics-bridge\n",
    "Consider this graph.\n",
    "\n",
    "```{figure} ../img/combinatorics/bridge-example.svg\n",
    ":align: center\n",
    ":height: 150em\n",
    ":name: fig-combinatorics-bridge-example\n",
    "Node-coloring example graph\n",
    "```\n",
    "\n",
    "We will use a generalize version of the Kronecker delta.\n",
    "\n",
    "```{math}\n",
    ":label: eqn-combinatorics-bridge-kronecker\n",
    "\\delta_{i_1\\ldots i_q} \\def\n",
    "    \\begin{cases}\n",
    "        1,\\quad i_1=i_2=\\ldots =i_q\\,, \\\\\n",
    "        0,\\quad\\text{otherwise}. \n",
    "    \\end{cases}\n",
    "```\n",
    "\n",
    "Again, we assign a tensor network to the graph by replacing nodes with tensors and edges \n",
    "with contractions. This time, nodes will be replaced by the generalized Kronecker tensor\n",
    "(with as many indices as incident edges). Edges will be subdiveded by an additional node \n",
    "that will be transformed into an $\\eta$-tensor. The example graph will be transformed \n",
    "into this tensor network.\n",
    "\n",
    "```{figure} ../img/combinatorics/bridge-tensors.svg\n",
    ":align: center\n",
    ":height: 150em\n",
    ":name: fig-combinatorics-bridge-tensors\n",
    "Node-coloring counting tensor network\n",
    "```\n",
    "\n",
    "Again, all indices are of dimension $c$ if we are counting $c$-colorings. We leave it to \n",
    "the reader to confirm that the example graph requires at least $3$ colors and is \n",
    "$3$-colorable in $12$ different ways.\n",
    "````\n",
    "\n",
    "Using this construction, we are able to count all valid node colorings.\n",
    "\n",
    "```{prf:theorem}\n",
    ":label: thm-combinatorics-bridge\n",
    "Let $G=(N,E)$ be a graph. We assign a tensor network as described in \n",
    "{prf:ref}`ex-combinatorics-bridge`. Every index of the tensor network shall have the same \n",
    "dimension $c$. Then the number of node $c$-colorings is exactly the value of the contraction \n",
    "of the tensor network.\n",
    "```\n",
    "\n",
    "```{prf:proof}\n",
    "The reasoning is quite simple. Each index represents the color the connected node is colored \n",
    "with. The $\\delta$ assigned to the node ensures that all connected indices represent the same \n",
    "color. The $\\eta$ assigned to an edge ensures, that the nodes connected by this edge are mapped \n",
    "to different colors.\n",
    "```\n",
    "\n",
    "## SAT instances"
   ]
  }
 ],
 "metadata": {
  "jupytext": {
   "cell_metadata_filter": "-all",
   "formats": "md:myst",
   "text_representation": {
    "extension": ".md",
    "format_name": "myst",
    "format_version": 0.13,
    "jupytext_version": "1.11.5"
   }
  },
  "kernelspec": {
   "display_name": "Python 3",
   "language": "python",
   "name": "python3"
  },
  "language_info": {
   "codemirror_mode": {
    "name": "ipython",
    "version": 3
   },
   "file_extension": ".py",
   "mimetype": "text/x-python",
   "name": "python",
   "nbconvert_exporter": "python",
   "pygments_lexer": "ipython3",
   "version": "3.8.5"
  },
  "source_map": [
   14,
   57,
   63,
   74,
   91,
   103,
   118,
   130,
   139,
   145,
   154,
   162,
   164,
   169,
   171,
   177,
   179,
   190,
   195,
   205,
   216,
   223,
   226,
   231,
   234
  ]
 },
 "nbformat": 4,
 "nbformat_minor": 4
}