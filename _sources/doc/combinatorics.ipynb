{
 "cells": [
  {
   "cell_type": "markdown",
   "metadata": {},
   "source": [
    "# Tensors and Combinatorics"
   ]
  },
  {
   "cell_type": "code",
   "execution_count": 1,
   "metadata": {},
   "outputs": [
    {
     "data": {
      "text/plain": [
       "(5,)"
      ]
     },
     "execution_count": 1,
     "metadata": {},
     "output_type": "execute_result"
    }
   ],
   "source": [
    "# the code below requires the miniKanren package\n",
    "# pip install miniKanren\n",
    "\n",
    "from kanren import run, eq, membero, var, conde\n",
    "x = var()\n",
    "run(0, x, eq(x, 5))"
   ]
  },
  {
   "cell_type": "markdown",
   "metadata": {},
   "source": [
    "## Idea\n",
    "\n",
    "1. Zebra Puzzle (solution with miniKanren)\n",
    "2. How does it work? -> relational programming\n",
    "3. AND as FUNCTION and as RELATION (implementation)\n",
    "4. 4-color example with constraint programming\n",
    "5. 4-color example with SAT problem\n",
    "6. AND Tensor (similar to RELATION)\n",
    "\n",
    "## TODO\n",
    "\n",
    "- Boolean tensors\n",
    "- Counting SAT solutions\n",
    "- Counting graph colorings"
   ]
  }
 ],
 "metadata": {
  "jupytext": {
   "cell_metadata_filter": "-all",
   "formats": "md:myst",
   "text_representation": {
    "extension": ".md",
    "format_name": "myst",
    "format_version": 0.13,
    "jupytext_version": "1.11.5"
   }
  },
  "kernelspec": {
   "display_name": "Python 3",
   "language": "python",
   "name": "python3"
  },
  "language_info": {
   "codemirror_mode": {
    "name": "ipython",
    "version": 3
   },
   "file_extension": ".py",
   "mimetype": "text/x-python",
   "name": "python",
   "nbconvert_exporter": "python",
   "pygments_lexer": "ipython3",
   "version": "3.8.5"
  },
  "source_map": [
   14,
   18,
   25
  ]
 },
 "nbformat": 4,
 "nbformat_minor": 4
}