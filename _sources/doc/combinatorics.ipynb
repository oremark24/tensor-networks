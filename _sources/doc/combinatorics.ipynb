{
 "cells": [
  {
   "cell_type": "markdown",
   "metadata": {},
   "source": [
    "# Tensors and Combinatorics\n",
    "\n",
    "```{figure} ../img/combinatorics/map-coloring.png\n",
    ":align: center\n",
    ":name: fig-tensor-networks-map-coloring\n",
    "Map coloring\n",
    "```\n",
    "\n",
    "Minikanren implementation for Python: [kanren package](https://github.com/logpy/logpy)."
   ]
  },
  {
   "cell_type": "code",
   "execution_count": 1,
   "metadata": {},
   "outputs": [],
   "source": [
    "# pip install kanren\n",
    "from kanren import *\n",
    "\n",
    "# part of Python's standard library\n",
    "from functools import partial"
   ]
  },
  {
   "cell_type": "code",
   "execution_count": 2,
   "metadata": {},
   "outputs": [],
   "source": [
    "# facts\n",
    "different_2 = Relation()\n",
    "facts(different_2,\n",
    "      (\"red\", \"green\"),\n",
    "      (\"green\", \"red\")\n",
    ")\n",
    "\n",
    "different_3 = Relation()\n",
    "facts(different_3,\n",
    "      (\"red\", \"green\"),\n",
    "      (\"green\", \"red\"),\n",
    "      (\"red\", \"blue\"),\n",
    "      (\"blue\", \"red\"),\n",
    "      (\"green\", \"blue\"),\n",
    "      (\"blue\", \"green\") \n",
    ")\n",
    "\n",
    "# rules\n",
    "def coloring(different, tn, ms, al, ga, fl):\n",
    "    return lall(\n",
    "        different(tn, ms),\n",
    "        different(tn, al),\n",
    "        different(tn, ga),\n",
    "        different(ms, al),\n",
    "        different(al, ga),\n",
    "        different(al, fl),\n",
    "        different(ga, fl)\n",
    "    )\n",
    "\n",
    "coloring_2 = partial(coloring, different_2)\n",
    "coloring_3 = partial(coloring, different_3)"
   ]
  },
  {
   "cell_type": "code",
   "execution_count": 3,
   "metadata": {},
   "outputs": [],
   "source": [
    "# goals\n",
    "tn, ms, al, ga, fl = var(), var(), var(), var(), var()\n",
    "\n",
    "colors_2 = coloring_2(tn, ms, al, ga, fl)\n",
    "colors_3 = coloring_3(tn, ms, al, ga, fl)\n",
    "\n",
    "al_red = eq(al, \"red\")\n",
    "tn_green = eq(tn, \"green\")\n",
    "\n",
    "# query\n",
    "query = { \n",
    "    \"Tennessee\": tn,\n",
    "    \"Mississippi\": ms,\n",
    "    \"Alabama\": al,\n",
    "    \"Georgia\": ga,\n",
    "    \"Florida\": fl\n",
    "}"
   ]
  },
  {
   "cell_type": "code",
   "execution_count": 4,
   "metadata": {},
   "outputs": [
    {
     "data": {
      "text/plain": [
       "()"
      ]
     },
     "execution_count": 4,
     "metadata": {},
     "output_type": "execute_result"
    }
   ],
   "source": [
    "run(0, query, colors_2)"
   ]
  },
  {
   "cell_type": "code",
   "execution_count": 5,
   "metadata": {},
   "outputs": [
    {
     "data": {
      "text/plain": [
       "({'Tennessee': 'blue',\n",
       "  'Mississippi': 'red',\n",
       "  'Alabama': 'green',\n",
       "  'Georgia': 'red',\n",
       "  'Florida': 'blue'},\n",
       " {'Tennessee': 'green',\n",
       "  'Mississippi': 'blue',\n",
       "  'Alabama': 'red',\n",
       "  'Georgia': 'blue',\n",
       "  'Florida': 'green'},\n",
       " {'Tennessee': 'red',\n",
       "  'Mississippi': 'blue',\n",
       "  'Alabama': 'green',\n",
       "  'Georgia': 'blue',\n",
       "  'Florida': 'red'},\n",
       " {'Tennessee': 'blue',\n",
       "  'Mississippi': 'green',\n",
       "  'Alabama': 'red',\n",
       "  'Georgia': 'green',\n",
       "  'Florida': 'blue'},\n",
       " {'Tennessee': 'green',\n",
       "  'Mississippi': 'red',\n",
       "  'Alabama': 'blue',\n",
       "  'Georgia': 'red',\n",
       "  'Florida': 'green'},\n",
       " {'Tennessee': 'red',\n",
       "  'Mississippi': 'green',\n",
       "  'Alabama': 'blue',\n",
       "  'Georgia': 'green',\n",
       "  'Florida': 'red'})"
      ]
     },
     "execution_count": 5,
     "metadata": {},
     "output_type": "execute_result"
    }
   ],
   "source": [
    "run(0, query, colors_3)"
   ]
  },
  {
   "cell_type": "code",
   "execution_count": 6,
   "metadata": {},
   "outputs": [
    {
     "data": {
      "text/plain": [
       "({'Tennessee': 'green',\n",
       "  'Mississippi': 'blue',\n",
       "  'Alabama': 'red',\n",
       "  'Georgia': 'blue',\n",
       "  'Florida': 'green'},)"
      ]
     },
     "execution_count": 6,
     "metadata": {},
     "output_type": "execute_result"
    }
   ],
   "source": [
    "run(0, query, colors_3, al_red, tn_green)"
   ]
  },
  {
   "cell_type": "markdown",
   "metadata": {},
   "source": [
    "## Idea\n",
    "\n",
    "1. Map coloring problem\n",
    "2. How does it work? -> relational programming\n",
    "3. AND as FUNCTION and as RELATION (implementation)\n",
    "4. 4-color example with constraint programming\n",
    "5. 4-color example with SAT problem\n",
    "6. AND Tensor (similar to RELATION)\n",
    "\n",
    "## TODO\n",
    "\n",
    "- Boolean tensors\n",
    "- Counting SAT solutions\n",
    "- Counting graph colorings"
   ]
  }
 ],
 "metadata": {
  "jupytext": {
   "cell_metadata_filter": "-all",
   "formats": "md:myst",
   "text_representation": {
    "extension": ".md",
    "format_name": "myst",
    "format_version": 0.13,
    "jupytext_version": "1.11.5"
   }
  },
  "kernelspec": {
   "display_name": "Python 3",
   "language": "python",
   "name": "python3"
  },
  "language_info": {
   "codemirror_mode": {
    "name": "ipython",
    "version": 3
   },
   "file_extension": ".py",
   "mimetype": "text/x-python",
   "name": "python",
   "nbconvert_exporter": "python",
   "pygments_lexer": "ipython3",
   "version": "3.8.5"
  },
  "source_map": [
   14,
   26,
   34,
   68,
   88,
   92,
   96,
   98
  ]
 },
 "nbformat": 4,
 "nbformat_minor": 4
}