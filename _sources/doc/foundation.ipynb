{
 "cells": [
  {
   "cell_type": "markdown",
   "metadata": {},
   "source": [
    "# Foundation\n",
    "\n",
    "Before we can deep dive into tensor networks, we have to prepare \n",
    "ourselves with the tools needed to understand them. Our tool set \n",
    "will mostly contain mathematical notions and basic results. Why is\n",
    "Mathematics so powerful and used in many other fields as \n",
    "Computer Science or Physics? One of the reasons is its built-in \n",
    "core concept of _abstraction_. It allows to start with very simple \n",
    "terms and combine them step by step into more complicated ones.\n",
    "\n",
    "We will apply the same strategy. We start out with some thoughts about\n",
    "abstractions and then introduce basic structures of Linear Algebra as \n",
    "_vector spaces_ and _linear maps_. Later we will generalize what we have \n",
    "learned here to define _tensors_ and _tensor networks_.\n",
    "\n",
    "## Abstraction"
   ]
  },
  {
   "cell_type": "code",
   "execution_count": 1,
   "metadata": {},
   "outputs": [
    {
     "name": "stdout",
     "output_type": "stream",
     "text": [
      "11\n",
      "13\n",
      "15\n",
      "17\n",
      "19\n"
     ]
    }
   ],
   "source": [
    "x = 11\n",
    "while x < 20:\n",
    "    print(x)\n",
    "    x += 2"
   ]
  },
  {
   "cell_type": "code",
   "execution_count": 2,
   "metadata": {},
   "outputs": [
    {
     "name": "stdout",
     "output_type": "stream",
     "text": [
      "11\n",
      "13\n",
      "15\n",
      "17\n",
      "19\n"
     ]
    }
   ],
   "source": [
    "def log(print_fn, xs):\n",
    "    for x in xs:\n",
    "        print_fn(x)\n",
    "        \n",
    "log(print, range(11, 20, 2))"
   ]
  },
  {
   "cell_type": "code",
   "execution_count": 3,
   "metadata": {},
   "outputs": [
    {
     "name": "stdout",
     "output_type": "stream",
     "text": [
      "['Penny', 'Leonard', 'Sheldon']\n",
      "['Leonard', 'Penny', 'Sheldon']\n",
      "['Sheldon', 'Penny', 'Leonard']\n",
      "['Penny', 'Sheldon', 'Leonard']\n",
      "['Leonard', 'Sheldon', 'Penny']\n",
      "['Sheldon', 'Leonard', 'Penny']\n"
     ]
    }
   ],
   "source": [
    "def permutations(xs):\n",
    "    def heap(xs, k):\n",
    "        def is_even(s):\n",
    "            return s%2 == 0\n",
    "\n",
    "        def swap(s, t):\n",
    "            xs[s], xs[t] = xs[t], xs[s]\n",
    "\n",
    "        if k == 1:            \n",
    "            yield list(xs) # yield new list, not mutatable by next steps\n",
    "        else:\n",
    "            yield from heap(xs, k-1)\n",
    "            for i in range(k-1):\n",
    "                if is_even(k):\n",
    "                    swap(i, k-1)\n",
    "                else:\n",
    "                    swap(0, k-1)\n",
    "                yield from heap(xs, k-1)\n",
    "                \n",
    "    yield from heap(xs, len(xs))\n",
    "    \n",
    "log(print, permutations([\"Penny\", \"Leonard\", \"Sheldon\"]))"
   ]
  },
  {
   "cell_type": "code",
   "execution_count": 4,
   "metadata": {},
   "outputs": [
    {
     "name": "stdout",
     "output_type": "stream",
     "text": [
      "4 9 2\n",
      "3 5 7\n",
      "8 1 6\n",
      "\n",
      "4 3 8\n",
      "9 5 1\n",
      "2 7 6\n",
      "\n",
      "6 1 8\n",
      "7 5 3\n",
      "2 9 4\n",
      "\n",
      "6 7 2\n",
      "1 5 9\n",
      "8 3 4\n",
      "\n",
      "8 1 6\n",
      "3 5 7\n",
      "4 9 2\n",
      "\n",
      "8 3 4\n",
      "1 5 9\n",
      "6 7 2\n",
      "\n",
      "2 7 6\n",
      "9 5 1\n",
      "4 3 8\n",
      "\n",
      "2 9 4\n",
      "7 5 3\n",
      "6 1 8\n",
      "\n"
     ]
    }
   ],
   "source": [
    "def check(numbers):\n",
    "    patterns = [\n",
    "        [0, 1, 2], # first row\n",
    "        [3, 4, 5], # second row\n",
    "        [0, 3, 6], # first column\n",
    "        [1, 4, 7], # second column\n",
    "        [0, 4, 8], # main diagonal\n",
    "        [2, 4, 6], # secondary diagonal\n",
    "    ]    \n",
    "    for pattern in patterns:\n",
    "        line = [num for i, num in enumerate(numbers) if i in pattern]\n",
    "        if sum(line) != 15:\n",
    "            return False        \n",
    "    return True\n",
    "\n",
    "def print_square(numbers):\n",
    "    s = f\"{numbers[0]} {numbers[1]} {numbers[2]}\\n\"\n",
    "    s += f\"{numbers[3]} {numbers[4]} {numbers[5]}\\n\"\n",
    "    s += f\"{numbers[6]} {numbers[7]} {numbers[8]}\\n\"\n",
    "    print(s)\n",
    "\n",
    "numbers = list(range(1, 10))\n",
    "magic_squares = [p for p in permutations(numbers) if check(p)]\n",
    "\n",
    "log(print_square, magic_squares)"
   ]
  },
  {
   "cell_type": "markdown",
   "metadata": {},
   "source": [
    "## Vector Spaces\n",
    "\n",
    "## Linear Maps"
   ]
  }
 ],
 "metadata": {
  "jupytext": {
   "cell_metadata_filter": "-all",
   "formats": "md:myst",
   "text_representation": {
    "extension": ".md",
    "format_name": "myst",
    "format_version": 0.13,
    "jupytext_version": "1.11.5"
   }
  },
  "kernelspec": {
   "display_name": "Python 3",
   "language": "python",
   "name": "python3"
  },
  "language_info": {
   "codemirror_mode": {
    "name": "ipython",
    "version": 3
   },
   "file_extension": ".py",
   "mimetype": "text/x-python",
   "name": "python",
   "nbconvert_exporter": "python",
   "pygments_lexer": "ipython3",
   "version": "3.8.5"
  },
  "source_map": [
   14,
   32,
   39,
   47,
   72,
   98
  ]
 },
 "nbformat": 4,
 "nbformat_minor": 4
}