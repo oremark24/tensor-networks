{
 "cells": [
  {
   "cell_type": "markdown",
   "metadata": {},
   "source": [
    "# Foundation\n",
    "\n",
    "Before we can deep dive into tensor networks, we have to prepare \n",
    "ourselves with the tools needed to understand them. Our tool set \n",
    "will mostly contain mathematical notions and basic results. Why is\n",
    "Mathematics so powerful and used in many other fields as \n",
    "Computer Science or Physics? One of the reasons is its built-in \n",
    "core concept of _abstraction_. It allows to start with very simple \n",
    "terms and combine them step by step into more complicated ones.\n",
    "\n",
    "We will apply the same strategy. We start out with some thoughts about\n",
    "abstractions and then introduce basic structures of Linear Algebra as \n",
    "_vector spaces_ and _linear maps_. Later we will generalize what we have \n",
    "learned here to define _tensors_ and _tensor networks_.\n",
    "\n",
    "## Abstraction\n",
    "\n",
    "We will use the programming language [Python](https://www.python.org/) \n",
    "for our coding examples. Recently it has undergone a raise in popularity.\n",
    "Confer page\n",
    "[About Python](https://executablebooks.github.io/quantecon-mini-example/docs/about_py.html),\n",
    "also to gain more motivation and insights.\n",
    "What are the reasons for this increase in interest?\n",
    "\n",
    "Usually a programming language needs a killer app to be successful, or \n",
    "a killer framework. Ruby had Ruby on Rails, JavaScript's killer app is the \n",
    "web browser, Java was pushed by the JVM. According to the linked document, \n",
    "Python is the proven leader when it comes to data analysis, with \n",
    "[pandas](https://pandas.pydata.org/) being the library driving this effort.\n",
    "\n",
    "Still, there are reasons within the language's design, enabling this wide acceptance.\n",
    "Data analysis requires both, numerical performance to process huge data sets,\n",
    "and expressive power to handle complex tasks and to have short development cycles.\n",
    "Very often these demands stand for incompatible requirements, but Python got both \n",
    "right at the same time. With bindings for C/C++ code and even Fortran routines, it is \n",
    "able to consume high performant numerical code as incorporated in [NumPy](https://numpy.org/) \n",
    "for example. On the other hand, Python is long known for expressive syntax and \n",
    "concepts, for instance _list comprehensions_.\n",
    "\n",
    "Combining both is a nice example of _abstraction_. The details of mathematical\n",
    "algorithms are encapsulated in C/C++ assemblies and abstracted away from the \n",
    "user of libraries as NumPy or pandas. It feels very comfortable to use lightweight\n",
    "glue code in the dynamically typed Python language, to combine the numerical \n",
    "building blocks into the solution of a real world problem. \n",
    "\n",
    "We will illustrate the power of abstraction on a much smaller scale \n",
    "(and completely in Python). We assume that our real world problem is to\n",
    "print out all odd integers between `10` and `20`. This is not very realistic, \n",
    "but will serve the purpose of exemplification.\n",
    "\n",
    "A very straight forward and not very abstract solution would be:"
   ]
  },
  {
   "cell_type": "code",
   "execution_count": 1,
   "metadata": {},
   "outputs": [
    {
     "name": "stdout",
     "output_type": "stream",
     "text": [
      "11\n",
      "13\n",
      "15\n",
      "17\n",
      "19\n"
     ]
    }
   ],
   "source": [
    "x = 11\n",
    "while x < 20:\n",
    "    print(x)\n",
    "    x += 2"
   ]
  },
  {
   "cell_type": "markdown",
   "metadata": {},
   "source": [
    "You might object that it would be a one-liner if we would have used the \n",
    "built-in [`range`](https://docs.python.org/3/library/stdtypes.html#range) \n",
    "generator. This is true, but on one hand this will be our starting point \n",
    "of a non-abstract solution, on the other hand if we would have had to \n",
    "use plain C code, the solution would have looked very similar to this example.\n",
    "\n",
    "What is the problem with this snippet? It intertwines the part of generating\n",
    "the numbers with the part of looping through the numbers with the part of \n",
    "printing the output. What if we would like to print out other content or \n",
    "use another output method? Much better would be to decouple these parts as \n",
    "in the following code, providing a solution to the same problem."
   ]
  },
  {
   "cell_type": "code",
   "execution_count": 2,
   "metadata": {},
   "outputs": [
    {
     "name": "stdout",
     "output_type": "stream",
     "text": [
      "11\n",
      "13\n",
      "15\n",
      "17\n",
      "19\n"
     ]
    }
   ],
   "source": [
    "def log(print_fn, xs):\n",
    "    for x in xs:\n",
    "        print_fn(x)\n",
    "        \n",
    "log(print, range(11, 20, 2))"
   ]
  },
  {
   "cell_type": "markdown",
   "metadata": {},
   "source": [
    "The parts are separated now. The number generation is provided by\n",
    "`range`, the output done by `print`. The `log` function connects the \n",
    "low-level parts. It takes a function for printing and the numbers as iterable.\n",
    "Both is combined using `for`, iterating through the numbers and feeding \n",
    "them into the print function.\n",
    "\n",
    "What have we won? The glue code is simple, we could consider it \n",
    "to be declarative. Furthermore, the details are abstracted away. In `log`\n",
    "there is no interest in how `print_fn` and `xs` are implemented. We just \n",
    "need to know that `print_fn` takes a number and outputs it, whereas `xs`\n",
    "is iterable. This has the consequences, that under these requirements, \n",
    "the detail providing parts are easily exchangeable. `print_fn` could follow \n",
    "different output strategies, printing to stdout, or using an api-call to \n",
    "send it to a web service, or write it to a database. Also the content can \n",
    "easily be changed. The following snippet prints out all permutations of \n",
    "a given list, using \n",
    "[Heap's algorithm](https://en.wikipedia.org/wiki/Heap%27s_algorithm)."
   ]
  },
  {
   "cell_type": "code",
   "execution_count": 3,
   "metadata": {},
   "outputs": [
    {
     "name": "stdout",
     "output_type": "stream",
     "text": [
      "['Penny', 'Leonard', 'Sheldon']\n",
      "['Leonard', 'Penny', 'Sheldon']\n",
      "['Sheldon', 'Penny', 'Leonard']\n",
      "['Penny', 'Sheldon', 'Leonard']\n",
      "['Leonard', 'Sheldon', 'Penny']\n",
      "['Sheldon', 'Leonard', 'Penny']\n"
     ]
    }
   ],
   "source": [
    "def permutations(xs):\n",
    "    def heap(xs, k):\n",
    "        def is_even(s):\n",
    "            return s%2 == 0\n",
    "\n",
    "        def swap(s, t):\n",
    "            xs[s], xs[t] = xs[t], xs[s]\n",
    "\n",
    "        if k == 1:            \n",
    "            yield list(xs) # yield new list, not mutatable by next steps\n",
    "        else:\n",
    "            yield from heap(xs, k-1)\n",
    "            for i in range(k-1):\n",
    "                if is_even(k):\n",
    "                    swap(i, k-1)\n",
    "                else:\n",
    "                    swap(0, k-1)\n",
    "                yield from heap(xs, k-1)\n",
    "                \n",
    "    yield from heap(xs, len(xs))\n",
    "    \n",
    "log(print, permutations([\"Penny\", \"Leonard\", \"Sheldon\"]))"
   ]
  },
  {
   "cell_type": "markdown",
   "metadata": {},
   "source": [
    "Having implemented `permutations`, we can now leave the detail level\n",
    "behind us, and simple use it. A magic square is a square of numbers\n",
    "with each row, column and both diagonals yielding the same sum.\n",
    "Let us find all magic squares of numbers `1,...,9`. Using the existing\n",
    "functions, this is now implemented in a few lines of code -\n",
    "although not in the most performant way."
   ]
  },
  {
   "cell_type": "code",
   "execution_count": 4,
   "metadata": {},
   "outputs": [
    {
     "name": "stdout",
     "output_type": "stream",
     "text": [
      "4 9 2\n",
      "3 5 7\n",
      "8 1 6\n",
      "\n",
      "4 3 8\n",
      "9 5 1\n",
      "2 7 6\n",
      "\n",
      "6 1 8\n",
      "7 5 3\n",
      "2 9 4\n",
      "\n",
      "6 7 2\n",
      "1 5 9\n",
      "8 3 4\n",
      "\n",
      "8 1 6\n",
      "3 5 7\n",
      "4 9 2\n",
      "\n",
      "8 3 4\n",
      "1 5 9\n",
      "6 7 2\n",
      "\n",
      "2 7 6\n",
      "9 5 1\n",
      "4 3 8\n",
      "\n",
      "2 9 4\n",
      "7 5 3\n",
      "6 1 8\n",
      "\n"
     ]
    }
   ],
   "source": [
    "def check(numbers):\n",
    "    patterns = [\n",
    "        [0, 1, 2], # first row\n",
    "        [3, 4, 5], # second row\n",
    "        [0, 3, 6], # first column\n",
    "        [1, 4, 7], # second column\n",
    "        [0, 4, 8], # main diagonal\n",
    "        [2, 4, 6], # secondary diagonal\n",
    "    ]    \n",
    "    for pattern in patterns:\n",
    "        line = [num for i, num in enumerate(numbers) if i in pattern]\n",
    "        if sum(line) != 15:\n",
    "            return False        \n",
    "    return True\n",
    "\n",
    "def print_square(numbers):\n",
    "    s = f\"{numbers[0]} {numbers[1]} {numbers[2]}\\n\"\n",
    "    s += f\"{numbers[3]} {numbers[4]} {numbers[5]}\\n\"\n",
    "    s += f\"{numbers[6]} {numbers[7]} {numbers[8]}\\n\"\n",
    "    print(s)\n",
    "\n",
    "numbers = list(range(1, 10))\n",
    "magic_squares = [p for p in permutations(numbers) if check(p)]\n",
    "\n",
    "log(print_square, magic_squares)"
   ]
  },
  {
   "cell_type": "markdown",
   "metadata": {},
   "source": [
    "To summarize, abstractions help to focus on the appropriate level \n",
    "of detail and to decompose complex structures into exchangable pieces.\n",
    "Coming back to tensors, we will use exactly this strategy to develop \n",
    "our understanding. Basic building blocks are _vector spaces_ and \n",
    "_linear maps_. There is a huge variety of instances. Vector spaces can \n",
    "be based on real numbers, complex numbers, can contain arrays of fixed length,\n",
    "infinite sequences or even continuous functions. Accordingly, linear maps \n",
    "can look quite differently as well. But to all these different objects,\n",
    "the principles of linearity and preserving linearity are common.\n",
    "Similarly to the mentioned considerations, we will leave out the details\n",
    "of the specific instances and exploit linearity to obtain common properties.\n",
    "This will lead to _tensors_ and _tensor networks_ as structures with a \n",
    "wide range of potential applications in Physics, Machine Learning and \n",
    "Data Science.\n",
    "\n",
    "## Vector Spaces\n",
    "\n",
    "We will fast forward through all necessary result of Linear Algebra.\n",
    "To gain a more detailed view, we recommend the excellent text book\n",
    "{cite}`axler15`.\n",
    "\n",
    "## Linear Maps"
   ]
  }
 ],
 "metadata": {
  "jupytext": {
   "cell_metadata_filter": "-all",
   "formats": "md:myst",
   "text_representation": {
    "extension": ".md",
    "format_name": "myst",
    "format_version": 0.13,
    "jupytext_version": "1.11.5"
   }
  },
  "kernelspec": {
   "display_name": "Python 3",
   "language": "python",
   "name": "python3"
  },
  "language_info": {
   "codemirror_mode": {
    "name": "ipython",
    "version": 3
   },
   "file_extension": ".py",
   "mimetype": "text/x-python",
   "name": "python",
   "nbconvert_exporter": "python",
   "pygments_lexer": "ipython3",
   "version": "3.8.5"
  },
  "source_map": [
   14,
   68,
   73,
   87,
   93,
   113,
   136,
   145,
   171
  ]
 },
 "nbformat": 4,
 "nbformat_minor": 4
}